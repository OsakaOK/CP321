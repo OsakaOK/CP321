{
 "cells": [
  {
   "attachments": {},
   "cell_type": "markdown",
   "id": "c214e5be",
   "metadata": {},
   "source": [
    "# Assignment 2 (5 Marks)\n",
    "\n",
    "Please indicate your name and student id clearly in the submission title and in the file. \n",
    "\n",
    "Name: Osaka Khamphavong\n",
    "\n",
    "Student ID:  200700130"
   ]
  },
  {
   "cell_type": "markdown",
   "id": "853c82ff",
   "metadata": {},
   "source": [
    "## Question 1\n",
    "\n",
    "Please use the same data set as in Assignment 1 for the following plot. \n",
    "\n",
    "Visualize the time series: Regular Unleaded Gasoline price in \"London\" from 2000 to 2022. Smooth the time series using simple moving average with windowsize=5."
   ]
  },
  {
   "cell_type": "code",
   "execution_count": null,
   "id": "eff59f67",
   "metadata": {},
   "outputs": [],
   "source": [
    "import pandas as pd\n",
    "import matplotlib.pyplot as plt\n",
    "\n",
    "df = pd.read_csv('data/fueltypesall1991-2023.csv', header=0, index_col=0)\n",
    "gas_type = df[(df['Fuel Type'] == 'Regular Unleaded Gasoline')]\n",
    "gas_range = gas_type.loc['2000-01-01':'2022-12-31']\n",
    "data = gas_range['London']\n",
    "#### Conversion from string to timepyEX\n",
    "data.index = pd.to_datetime(data.index)\n",
    "\n",
    "final_data = data.rolling(window=5).mean()\n",
    "# Plot the time series\n",
    "plt.figure(figsize=(10, 7))\n",
    "plt.plot(data, label='Before smoothing', color = \"green\")\n",
    "plt.plot(final_data, label='After smoothing', color = \"blue\")\n",
    "\n",
    "# Add labels and title \n",
    "plt.legend(loc='best')\n",
    "plt.xlabel('Year')\n",
    "plt.ylabel('Price')\n",
    "plt.title('Regular Unleaded Gasoline Price in London from 2000 to 2022')\n",
    "plt.show()\n"
   ]
  },
  {
   "cell_type": "markdown",
   "id": "27fb6867",
   "metadata": {},
   "source": [
    "## Question 2\n",
    "\n",
    "The following data set includes the volcanos in the world. \n",
    "https://github.com/plotly/datasets/blob/master/volcano_db.csv\n",
    "\n",
    "Please plot a map with three countries: Canada, US and Mexico. Show the exact locations (latitude and longitude) of the volcanos on this map.\n"
   ]
  },
  {
   "cell_type": "code",
   "execution_count": null,
   "id": "c7647852",
   "metadata": {},
   "outputs": [],
   "source": [
    "import pandas as pd\n",
    "import geopandas as gpd\n",
    "import matplotlib.pyplot as plt\n",
    "\n",
    "volcano = pd.read_csv('data/volcano_db.csv', encoding = \"ISO-8859-1\")\n",
    "world = gpd.read_file(gpd.datasets.get_path(\"naturalearth_lowres\"))\n",
    "\n",
    "# Filter the volcano data for Canada, US, and Mexico\n",
    "volcano_df = volcano[volcano['Country'].isin(['Canada', 'United States', 'Mexico'])]\n",
    "# Filter the data for Canada, US, and Mexico\n",
    "north_america = world[world.name.isin(['Canada', 'United States of America', 'Mexico'])]\n",
    "\n",
    "# Create a geopandas dataframe with the volcano data\n",
    "geometry = gpd.points_from_xy(volcano_df.Longitude, volcano_df.Latitude)\n",
    "volcano_gdf = gpd.GeoDataFrame(volcano_df, geometry=geometry)\n",
    "\n",
    "# Create the plot\n",
    "fig, ax = plt.subplots(figsize=(20,5), facecolor='lightgray')\n",
    "north_america.plot(ax=ax, cmap='YlOrRd', alpha=0.7, edgecolor='black')\n",
    "volcano_gdf.plot(ax=ax, marker='v', markersize=20, color='red', alpha=0.5, label='Volcanoes')\n",
    "ax.legend(loc='upper left')\n",
    "\n",
    "# Add labels, title, color and show plot\n",
    "plt.title('Volcanoes in Canada, US, and Mexico', fontfamily='Helvetica', fontsize=16)\n",
    "plt.xlabel('Longitude', fontfamily='Helvetica', fontsize=12)\n",
    "plt.ylabel('Latitude', fontfamily='Helvetica', fontsize=12)\n",
    "plt.show()"
   ]
  },
  {
   "cell_type": "code",
   "execution_count": null,
   "id": "fab68831",
   "metadata": {},
   "outputs": [],
   "source": []
  },
  {
   "cell_type": "code",
   "execution_count": null,
   "id": "d2ec1ce9",
   "metadata": {},
   "outputs": [],
   "source": []
  }
 ],
 "metadata": {
  "kernelspec": {
   "display_name": "Python 3",
   "language": "python",
   "name": "python3"
  },
  "language_info": {
   "codemirror_mode": {
    "name": "ipython",
    "version": 3
   },
   "file_extension": ".py",
   "mimetype": "text/x-python",
   "name": "python",
   "nbconvert_exporter": "python",
   "pygments_lexer": "ipython3",
   "version": "3.11.1"
  },
  "vscode": {
   "interpreter": {
    "hash": "aee8b7b246df8f9039afb4144a1f6fd8d2ca17a180786b69acc140d282b71a49"
   }
  }
 },
 "nbformat": 4,
 "nbformat_minor": 5
}
